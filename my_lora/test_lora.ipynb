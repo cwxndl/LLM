{
 "cells": [
  {
   "cell_type": "markdown",
   "id": "a8d94c1a-7e77-4e98-99cb-d36bc61cfa29",
   "metadata": {},
   "source": [
    "# NDLSLM_0.8B-Chat-LORA"
   ]
  },
  {
   "cell_type": "code",
   "execution_count": 24,
   "id": "da445e42-7ffd-4701-8aa9-e3bc7ecba3ea",
   "metadata": {},
   "outputs": [
    {
     "name": "stderr",
     "output_type": "stream",
     "text": [
      "Special tokens have been added in the vocabulary, make sure the associated word embeddings are fine-tuned or trained.\n"
     ]
    },
    {
     "name": "stdout",
     "output_type": "stream",
     "text": [
      "正在使用flash_attn的RMS\n",
      "Loaded PEFT model. Merging...\n",
      "Merge complete.\n"
     ]
    }
   ],
   "source": [
    "from peft import PeftModel  # dynamic import to avoid dependency on peft\n",
    "from tqdm import tqdm \n",
    "import torch \n",
    "from peft import (\n",
    "    LoraConfig,\n",
    "    PeftConfig,\n",
    "    PeftModel,\n",
    "    get_peft_model,\n",
    ")\n",
    "from modelscope import AutoModelForCausalLM, AutoTokenizer\n",
    "model_name = \"Ndlcwx/NDLSLM_0.8B-Chat\"\n",
    "tokenizer = AutoTokenizer.from_pretrained(\n",
    "    model_name,\n",
    "    trust_remote_code=True,\n",
    ")\n",
    "from modelscope import GenerationConfig\n",
    "model = AutoModelForCausalLM.from_pretrained(model_name,device_map=\"auto\", trust_remote_code=True)\n",
    "model.generation_config = GenerationConfig.from_pretrained(model_name, trust_remote_code=True,temperature = 0.01,top_k=3)\n",
    "# model.resize_token_embeddings(len(tokenizer))\n",
    "model = PeftModel.from_pretrained(model,'/root/autodl-tmp/my_lora/model_save/lora_ner3/checkpoint-240')\n",
    "print(\"Loaded PEFT model. Merging...\")\n",
    "model.merge_and_unload()\n",
    "print(\"Merge complete.\")"
   ]
  },
  {
   "cell_type": "code",
   "execution_count": 25,
   "id": "e62d3d11-c059-4e91-a7ca-ca987c7dbb3b",
   "metadata": {},
   "outputs": [
    {
     "name": "stdout",
     "output_type": "stream",
     "text": [
      "\n",
      "李白的《将进酒》是一首豪放不羁的诗歌，作者是唐代诗人白居易。这首诗描绘了杜甫在登高时对人生、爱情和人生的思考，表达了他对生命的热爱和对自由的精神追求。同时，也反映了当时社会阶层差异和人性的复杂性。整篇诗歌以“君不见黄河之水天上来”为开头，表现了人们对生命的向往与执着，同时也展现了苏轼对于人类命运的无奈和不屈精神。\n"
     ]
    }
   ],
   "source": [
    "from transformers import GenerationConfig\n",
    "gen_config = GenerationConfig(\n",
    "    temperature=0.7,\n",
    "    top_k=30,\n",
    "    top_p=0.5,\n",
    "    do_sample=True,\n",
    "    num_beams=1,\n",
    "    repetition_penalty=1.3,\n",
    "    max_new_tokens=400,\n",
    "    eos_token_id=tokenizer.eos_token_id,\n",
    "    pad_token_id=tokenizer.pad_token_id,\n",
    ")\n",
    "prompt= '请介绍一下李白?'\n",
    "response = model.chat(tokenizer,query=prompt,gen_config=gen_config)\n",
    "print(response)"
   ]
  },
  {
   "cell_type": "code",
   "execution_count": 27,
   "id": "7425999f-cd6d-4ec8-9689-abf3dd965488",
   "metadata": {},
   "outputs": [
    {
     "name": "stdout",
     "output_type": "stream",
     "text": [
      "\n",
      "文本理解，公司名称：iPhone，关键词：核心业务\n"
     ]
    }
   ],
   "source": [
    "instruction= '你是一个NER助手\\n'\n",
    "# system='You are a helpful assistant.'+instruction\n",
    "prompt= instruction+'苹果公司的主营业务是什么?'\n",
    "response = model.chat(tokenizer,query=prompt,gen_config=gen_config)\n",
    "print(response)"
   ]
  },
  {
   "cell_type": "code",
   "execution_count": 28,
   "id": "dbe569c4-d78b-4928-8afe-d942538b5ea0",
   "metadata": {},
   "outputs": [
    {
     "name": "stdout",
     "output_type": "stream",
     "text": [
      "\n",
      "Apple公司主营电子产品、计算机硬件和软件等。\n"
     ]
    }
   ],
   "source": [
    "instruction= '你是一个NER助手\\n'\n",
    "# system='You are a helpful assistant.'+instruction\n",
    "prompt= '苹果公司的主营业务是什么?'\n",
    "response = model.chat(tokenizer,query=prompt,gen_config=gen_config)\n",
    "print(response)"
   ]
  },
  {
   "cell_type": "code",
   "execution_count": 29,
   "id": "77bba271-c17e-40fe-b075-cc500c286330",
   "metadata": {},
   "outputs": [
    {
     "name": "stdout",
     "output_type": "stream",
     "text": [
      "\n",
      "腾讯公司成立于1998年，是一家总部位于中国深圳的互联网公司。该公司主要提供互联网服务、云计算服务和移动应用开发等业务。目前，阿里巴巴集团旗下拥有多个子公司和分支机构，包括淘宝网、天猫商城等。其中，京东集团是中国最大的电子商务公司之一，旗下有顺丰速运、菜鸟网络等多家平台；苏宁易购则是一家以零售为主的公司，主营电子产品销售和服务业务。此外，腾讯公司还涉足金融领域，如支付宝、微信支付等品牌也主要经营互联网金融产品和服务。\n"
     ]
    }
   ],
   "source": [
    "instruction= '你是一个NER助手\\n'\n",
    "# system='You are a helpful assistant.'+instruction\n",
    "prompt= '腾讯公司的主营业务都有哪些？'\n",
    "response = model.chat(tokenizer,query=prompt,gen_config=gen_config)\n",
    "print(response)"
   ]
  },
  {
   "cell_type": "code",
   "execution_count": 55,
   "id": "0e4949ba-e7a7-4902-9547-f76f7a211fff",
   "metadata": {},
   "outputs": [
    {
     "name": "stdout",
     "output_type": "stream",
     "text": [
      "\n",
      "文本理解，公司名称：华瑞电器有限责任公司，关键词：已提交专利申请\n"
     ]
    }
   ],
   "source": [
    "instruction= '你是一个NER助手\\n'\n",
    "# system='You are a helpful assistant.'+instruction\n",
    "prompt= instruction+'华瑞电器股份有限公司获得多少项国内专利？其中有多上项发明专利？'\n",
    "response = model.chat(tokenizer,query=prompt,gen_config=gen_config)\n",
    "print(response)"
   ]
  },
  {
   "cell_type": "code",
   "execution_count": 57,
   "id": "1c846762-b33d-475c-9a90-f18b76cc6cee",
   "metadata": {},
   "outputs": [
    {
     "name": "stdout",
     "output_type": "stream",
     "text": [
      "\n",
      "华瑞电气有限责任公司是一家中国著名的电力企业，成立于1998年。该公司主要从事电力系统、发电机和配电设备的设计和销售工作，致力于为客户提供高品质的产品和服务。因此，该公司获得了多个奖项的荣誉，包括2005年度全国优秀优秀企业奖等荣誉。\n",
      "根据2019年的数据，华瑞电气股份公司位列全球第一，其子公司为北京电力公司（股票代码：601110）。该公司的主营业务是发电，并推广了其他类型的能源项目，如太阳能、风能等。此外，公司还涉足了许多其他的领域，例如新能源技术、环保技术等。\n",
      "综上所述，华瑞机电集团公司荣膺多项国际先进企业的殊荣，并在业内享有盛誉。\n"
     ]
    }
   ],
   "source": [
    "instruction= '你是一个NER助手\\n'\n",
    "# system='You are a helpful assistant.'+instruction\n",
    "prompt= '华瑞电器股份有限公司获得多少项国内专利？其中有多上项发明专利？'\n",
    "response = model.chat(tokenizer,query=prompt,gen_config=gen_config)\n",
    "print(response)"
   ]
  },
  {
   "cell_type": "code",
   "execution_count": 61,
   "id": "2faadf06-b768-4073-a8ac-569d6762df40",
   "metadata": {},
   "outputs": [
    {
     "name": "stdout",
     "output_type": "stream",
     "text": [
      "\n",
      "当然可以！以下是一些关于如何维持健康的建议： \n",
      "1. 均衡饮食: 摄入足够的蛋白质、碳水化合物和脂肪，避免高热量和高糖分的食物。同时减少盐的摄入量，如油炸食品、糖果等。 \n",
      "2. 多喝水: 每天至少喝八杯水或8盎司的水（约6升）。多饮水有助于促进新陈代谢并减轻压力。此外，注意补充水分可以帮助身体恢复。 \n",
      "3. 定期体检: 如果发现任何健康问题，及时就医以获取必要的治疗。这包括接种疫苗、进行常规检查以及预防接种等等。 \n",
      "4. 控制体重: 在减肥期间要控制自己的体重以保持身体健康。不要过度减重，以免影响健康和健康状况。 \n",
      "5. 睡眠充足: 与朋友和家人一起睡觉可以提高身体的免疫力和抵抗力。每晚7-9小时的睡眠时间对身心健康非常重要。 \n",
      "希望这些建议能对你有所帮助！\n"
     ]
    }
   ],
   "source": [
    "instruction= '你是一个NER助手\\n'\n",
    "# system='You are a helpful assistant.'+instruction\n",
    "prompt= '你可以帮我提出三点保持健康的建议吗？'\n",
    "response = model.chat(tokenizer,query=prompt,gen_config=gen_config)\n",
    "print(response)"
   ]
  },
  {
   "cell_type": "code",
   "execution_count": 16,
   "id": "583fb375-c2c8-4953-979b-f802e0997f45",
   "metadata": {},
   "outputs": [
    {
     "data": {
      "image/png": "[encoded data removed]",
      "text/plain": [
       "<Figure size 960x720 with 1 Axes>"
      ]
     },
     "metadata": {},
     "output_type": "display_data"
    }
   ],
   "source": [
    "#保存损失函数图\n",
    "import ujson\n",
    "with open('/root/autodl-tmp/my_lora/model_save/lora_ner/checkpoint-240/trainer_state.json','r') as file:\n",
    "    data = ujson.load(file)\n",
    "loss_ = data['log_history']\n",
    "loss_lst = []\n",
    "step_lst = []\n",
    "for i in range(len(loss_)):\n",
    "    loss_lst.append(loss_[i]['loss'])\n",
    "    step_lst.append(loss_[i]['step'])\n",
    "import matplotlib.pyplot as plt\n",
    "plt.figure(dpi=150)\n",
    "plt.plot(step_lst,loss_lst)\n",
    "plt.ylabel('Loss')\n",
    "plt.xlabel('steps')\n",
    "plt.title('NDLSLM_0.8B-Chat LORA Loss')\n",
    "plt.savefig('lora_0.8B.png')\n",
    "plt.show()\n"
   ]
  },
  {
   "cell_type": "markdown",
   "id": "df041e3d-9d48-4e39-95a5-e6366836aa4f",
   "metadata": {},
   "source": [
    "# NDLMoe_1.3B-Chat Lora"
   ]
  },
  {
   "cell_type": "code",
   "execution_count": 30,
   "id": "e4576d65-c22a-4f74-945e-b31f44cffb25",
   "metadata": {},
   "outputs": [
    {
     "name": "stderr",
     "output_type": "stream",
     "text": [
      "Special tokens have been added in the vocabulary, make sure the associated word embeddings are fine-tuned or trained.\n"
     ]
    },
    {
     "name": "stdout",
     "output_type": "stream",
     "text": [
      "正在使用flash_attn的RMS\n",
      "Loaded PEFT model. Merging...\n",
      "Merge complete.\n"
     ]
    }
   ],
   "source": [
    "from peft import PeftModel  # dynamic import to avoid dependency on peft\n",
    "from tqdm import tqdm \n",
    "import torch \n",
    "from peft import (\n",
    "    LoraConfig,\n",
    "    PeftConfig,\n",
    "    PeftModel,\n",
    "    get_peft_model,\n",
    ")\n",
    "from modelscope import AutoModelForCausalLM, AutoTokenizer\n",
    "model_name = \"Ndlcwx/NDLMoe_1.3B-Chat\"\n",
    "tokenizer = AutoTokenizer.from_pretrained(\n",
    "    model_name,\n",
    "    trust_remote_code=True,\n",
    ")\n",
    "from modelscope import GenerationConfig\n",
    "model = AutoModelForCausalLM.from_pretrained(model_name,device_map=\"auto\", trust_remote_code=True)\n",
    "model.generation_config = GenerationConfig.from_pretrained(model_name, trust_remote_code=True,temperature = 0.01,top_k=3)\n",
    "# model.resize_token_embeddings(len(tokenizer))\n",
    "model = PeftModel.from_pretrained(model,'/root/autodl-tmp/my_lora/model_save/lora_ner_moe/checkpoint-240')\n",
    "print(\"Loaded PEFT model. Merging...\")\n",
    "model.merge_and_unload()\n",
    "print(\"Merge complete.\")"
   ]
  },
  {
   "cell_type": "code",
   "execution_count": 83,
   "id": "323a493b-38b6-4d15-ba69-d381050dd93c",
   "metadata": {},
   "outputs": [
    {
     "name": "stdout",
     "output_type": "stream",
     "text": [
      "\n",
      "诗歌创作，是中国古代文学的代表之一。其诗作以山水、人物为主旨，表现了作者对自然的热爱和追求。其中，《将进酒》是一首抒情散文，描写了主人公在人生旅途中所经历的各种情感与感受。《将进酒》是唐代著名文学家杜甫所作的一篇诗集，被誉为“诗词之冠”。这首诗以其优美的语言风格而闻名于世，被誉为中国古典小说的巅峰之作。 \n",
      "《将进酒》是一部具有深刻思想\n"
     ]
    }
   ],
   "source": [
    "from transformers import GenerationConfig\n",
    "gen_config = GenerationConfig(\n",
    "    temperature=0.01,\n",
    "    top_k=3,\n",
    "    top_p=0.5,\n",
    "    do_sample=True,\n",
    "    num_beams=1,\n",
    "    repetition_penalty=1.3,\n",
    "    max_new_tokens=100,\n",
    "    eos_token_id=tokenizer.eos_token_id,\n",
    "    pad_token_id=tokenizer.pad_token_id,\n",
    ")\n",
    "prompt= '请介绍一下诗人李白'\n",
    "response = model.chat(tokenizer,query=prompt,gen_config=gen_config)\n",
    "print(response)"
   ]
  },
  {
   "cell_type": "code",
   "execution_count": 88,
   "id": "c79bca4b-5522-4f09-9b4a-994041c97bb8",
   "metadata": {},
   "outputs": [
    {
     "name": "stdout",
     "output_type": "stream",
     "text": [
      "\n",
      "公司名称：集团公司（简称“公司”）\n",
      "经营范围： 开发、销售及销售各种电子产品，包括电脑、手机等。\n",
      "法定代表人：（姓名）\n",
      "法定代表人：（签名）：XXX\n",
      "地址：[联系方式]\n",
      "联系电话：(邮箱)：XX-XXXXXXX\n",
      "联系人：（邮箱地址）：XX-XXXXXXX\n",
      "电话：（电子邮箱）：XX-XXXXXXX\n",
      "电子邮件：（邮件号码）：XX-XXXXXXX\n",
      "公司名称：“集团”名称及全称：有限责任公司（以下简称“股份公司”），企业名称：\n"
     ]
    }
   ],
   "source": [
    "instruction= '你是一个NER助手\\n'\n",
    "# system='You are a helpful assistant.'+instruction\n",
    "prompt= instruction+'湖南长远锂科股份有限公司变更设立时作为发起人的法人有哪些？'\n",
    "response = model.chat(tokenizer,query=prompt,max_window_size=100,gen_config=gen_config)\n",
    "print(response)"
   ]
  },
  {
   "cell_type": "code",
   "execution_count": 89,
   "id": "4a38a4a6-1fdc-4800-8c67-5fca387041f7",
   "metadata": {},
   "outputs": [
    {
     "name": "stdout",
     "output_type": "stream",
     "text": [
      "\n",
      "苹果公司（Apple Inc.）是一家总部位于美国加利福尼亚州的科技公司，成立于1998年。该公司致力于开发智能手表、智能家居设备以及数字娱乐产品等高科技产品和服务。公司主要从事智能手机和平板电脑的研发和销售，旗下拥有多个品牌和产品系列。\n",
      "苹果公司专注于研发创新科技产品和解决方案，包括iPhone手机、iPad笔记本电脑、Mac电脑等产品。其中，iPhone电视是苹果公司首款采用人工智能技术的电视机；iPad笔记本则是谷歌旗下的在线音乐播放器；AirPods是一款基于虚拟现实技术的产品，具有强大的用户体验\n"
     ]
    }
   ],
   "source": [
    "instruction= '你是一个NER助手\\n'\n",
    "# system='You are a helpful assistant.'+instruction\n",
    "prompt= '苹果公司的主营业务是什么?'\n",
    "response = model.chat(tokenizer,query=prompt,gen_config=gen_config)\n",
    "print(response)"
   ]
  },
  {
   "cell_type": "code",
   "execution_count": 90,
   "id": "c87debe3-9c41-412f-b271-8bd12bfc7ea1",
   "metadata": {},
   "outputs": [
    {
     "name": "stdout",
     "output_type": "stream",
     "text": [
      "\n",
      "腾讯公司，简称微信，是一家专注于互联网技术的科技公司。公司成立于2010年，总部位于中国北京市海淀区中关村科技园内，是一家以云计算、人工智能和大数据为核心的互联网公司。\n",
      "腾讯公司在互联网技术领域拥有多年的经验和技术积累，致力于为客户提供更加便捷的服务和产品体验。目前，字节跳动是全球最大的游戏直播平台之一，其移动游戏业务已经取得了巨大的成功。同时，快手也积极拓展海外市场，推出了一系列具有前瞻性的产品和服务，如短视频内容制作等。此外，B站还涉足游戏开发等领域，不断推陈出新\n"
     ]
    }
   ],
   "source": [
    "instruction= '你是一个NER助手\\n'\n",
    "# system='You are a helpful assistant.'+instruction\n",
    "prompt= '腾讯公司的主营业务都有哪些？'\n",
    "response = model.chat(tokenizer,query=prompt,gen_config=gen_config)\n",
    "print(response)"
   ]
  },
  {
   "cell_type": "code",
   "execution_count": 95,
   "id": "ecb2355f-1aff-4f9e-80d6-38f9725fc6be",
   "metadata": {},
   "outputs": [
    {
     "name": "stdout",
     "output_type": "stream",
     "text": [
      "\n",
      "公司名称：科技（XYZ）\n",
      "公司简介：\n",
      "本公司是一家专注于研发、生产和销售生物医药产品的科技公司，致力于为客户提供高品质的产品和服务。公司拥有一支高素质的研发团队，拥有多年的研发和制造经验，能够为用户提供高质量的产品解决方案和服务。\n",
      "产品类别：医疗器械类\n",
      "产品线：药品制剂系列\n",
      "产品销售范围：医药类产品销售\n",
      "销售渠道：电商平台商城\n",
      "服务内容：在线预约挂号、电话咨询等增值服务\n",
      "客户评价：\n",
      "我们公司的产品和服务涵盖了多个领域，包括新药研究、临床试验\n"
     ]
    }
   ],
   "source": [
    "instruction= '你是一个NER助手\\n'\n",
    "# system='You are a helpful assistant.'+instruction\n",
    "prompt= instruction+'云南沃森生物技术股份有限公司负责产品研发的是什么部门？'\n",
    "response = model.chat(tokenizer,query=prompt,max_window_size=50,gen_config=gen_config)\n",
    "print(response)"
   ]
  },
  {
   "cell_type": "code",
   "execution_count": 23,
   "id": "5f550715-40a8-4bbe-9ebe-e0b63855535e",
   "metadata": {},
   "outputs": [],
   "source": [
    "# print(model)"
   ]
  }
 ],
 "metadata": {
  "kernelspec": {
   "display_name": "Python 3 (ipykernel)",
   "language": "python",
   "name": "python3"
  },
  "language_info": {
   "codemirror_mode": {
    "name": "ipython",
    "version": 3
   },
   "file_extension": ".py",
   "mimetype": "text/x-python",
   "name": "python",
   "nbconvert_exporter": "python",
   "pygments_lexer": "ipython3",
   "version": "3.10.8"
  }
 },
 "nbformat": 4,
 "nbformat_minor": 5
}
